{
 "cells": [
  {
   "cell_type": "code",
   "execution_count": 25,
   "metadata": {},
   "outputs": [],
   "source": [
    "import matplotlib.pyplot as plt\n",
    "import pandas as pd"
   ]
  },
  {
   "cell_type": "code",
   "execution_count": null,
   "metadata": {},
   "outputs": [],
   "source": [
    "pd.set_option('display.max_rows', None)\n",
    "pd.set_option('display.max_columns', None)\n",
    "df = pd.read_csv('project.csv', encoding='utf-8')\n",
    "\n",
    "category_counts = df['jobMeta'].value_counts()\n",
    "\n",
    "df.loc[df['jobMeta'] == 'CSS', 'jobMeta'] = '프론트엔드'\n",
    "df.loc[df['jobMeta'] == '웹개발', 'jobMeta'] = '프론트엔드'\n",
    "\n",
    "selected_categories = category_counts[category_counts > 100].index.tolist()\n",
    "\n",
    "df = df[df['jobMeta'].isin(selected_categories)]\n",
    "\n",
    "df.drop_duplicates(inplace=True)\n",
    "\n",
    "df.to_csv('project2.csv', index=False, encoding='utf-8')"
   ]
  }
 ],
 "metadata": {
  "kernelspec": {
   "display_name": "Python 3",
   "language": "python",
   "name": "python3"
  },
  "language_info": {
   "codemirror_mode": {
    "name": "ipython",
    "version": 3
   },
   "file_extension": ".py",
   "mimetype": "text/x-python",
   "name": "python",
   "nbconvert_exporter": "python",
   "pygments_lexer": "ipython3",
   "version": "3.8.8"
  },
  "orig_nbformat": 4
 },
 "nbformat": 4,
 "nbformat_minor": 2
}
